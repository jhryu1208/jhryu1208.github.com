{
 "cells": [
  {
   "cell_type": "markdown",
   "metadata": {},
   "source": [
    "- 기존엔 Markdown 파일로만 글을 작성했는데, 코드와 함께 블로깅을 하고 싶은 생각에 방법을 찾아봤습니다\n",
    "- 제 테마에 맞게 하나씩 삽질한 과정을 작성한 글입니다\n",
    "- 이 글은 jupyter notebook(ipynb)에서 작성되었으며, 환경은 Mac OS입니다\n",
    "- Jekyll 플러그인을 만들었다가, Github Page에선 안되는 것을 알고 뒤늦게 방법을 수정했습니다\n",
    "    - [관련 공식 문서](https://jekyllrb-ko.github.io/docs/plugins/)\n",
    "    - ```jupyter nbconverter```를 직접 하는 쉘 스크립트 생성"
   ]
  },
  {
   "cell_type": "markdown",
   "metadata": {},
   "source": [
    "## 진행 과정\n",
    "- 1) ```jupyter nbconverter``` 사용하기\n",
    "- 2) ```_ipynbs``` 폴더에 ```*.ipynb``` 작성\n",
    "- 3) 쉘 스크립트를 사용해 ```*.ipynb```을 ```*.html```으로 변환\n",
    "- 4) Github Push"
   ]
  },
  {
   "cell_type": "markdown",
   "metadata": {},
   "source": [
    "## 1) jupyter nbconverter 사용하기\n",
    "- ```jupyter nbconverter```는 Jupyter Notebook 파일을 (ipynb) 다른 형태로 변환시켜줍니다\n",
    "    - PDF, HTML, LaTex, Reveal.js HTML slideshow, Markdown, notebook 등..\n",
    "- 저흰 여기서 HTML을 사용합니다! Markdown으로 변환해도 되긴 하는데, output의 이미지 주소를 연결하는 작업이 귀찮아서 HTML로 선택했습니다\n",
    "\n",
    "### 설치\n",
    "- nbconvert의 모든 기능을 사용하고 싶은 경우엔 Pandoc과 Tex도 설치해야 합니다!\n",
    "- [nbconvert 공식 문서](http://nbconvert.readthedocs.io/en/latest/install.html)\n",
    "\n",
    "```\n",
    "// linux\n",
    "sudo apt-get install pandoc\n",
    "sudo apt-get install texlive-xetex\n",
    "\n",
    "// mac\n",
    "brew install pandoc\n",
    "/usr/bin/ruby -e \"$(curl -fsSL  https://raw.githubusercontent.com/Homebrew/install/master/install)\"<code id=\"selectable\"></code>\n",
    "brew install caskroom/cask/brew-cask\n",
    "brew cask install mactex\n",
    "\n",
    "pip(3) install nbconveter\n",
    "```"
   ]
  },
  {
   "cell_type": "markdown",
   "metadata": {},
   "source": [
    "### 사용법\n",
    "- ```jupyter nbconvert --to html your_ipynb_file.ipynb```\n",
    "- 다른 Format이나 설정은 [nbconvert 공식 문서](http://nbconvert.readthedocs.io/en/latest/usage.html) 참고"
   ]
  },
  {
   "cell_type": "markdown",
   "metadata": {},
   "source": [
    "## 2) ipynb 파일 작성\n",
    "- ```_ipynbs``` 폴더를 만든 후, 쥬피터 노트북 파일을 작성해주세요\n",
    "- 저는 ```2018-08-15-jupyter-notebook-in-jekyll.ipynb```로 만들었습니다!\n",
    "- ```_posts``` 폴더에 ```2018-08-15-jupyter-notebook-in-jekyll.html``` 생성\n",
    "    - 아래와 같은 정보 추가\n",
    "    - 이 부분은 어떻게 자동화할지 고민해보기(jupyter notebook에서 아래 정보를 넣고 변환하면 깨짐)\n",
    "    \n",
    "```\n",
    "---\n",
    "layout: post\n",
    "title:  \"jupyter notebook(ipynb)로 jekyll 글쓰기\"\n",
    "subtitle: \"jupyter notebook(ipynb)로 jekyll 글쓰기\"\n",
    "categories: development\n",
    "tags: web\n",
    "comments: true\n",
    "---\n",
    "```"
   ]
  },
  {
   "cell_type": "markdown",
   "metadata": {},
   "source": [
    "## 3) 쉘 스크립트를 사용해 파일 변환\n",
    "- 최상단 폴더에 ```ipython_to_html.sh``` 생성\n",
    "- 사용 방법 :  ```bash ipython_to_html.sh {file_name}```\n",
    "    - file_name은 2018-08-15-jupyter-notebook-in-jekyll 이런식으로! \n",
    "    - 지금은 아래와 같은 방식을 사용하시만 추후 ipynb 상관없이 대응하도록 수정할 예정\n",
    "    - 현재는 >> (append)\n",
    "    \n",
    "```\n",
    "#!/bin/bash/\n",
    "\n",
    "file_name=$1\n",
    "echo ${file_name}\n",
    "function converter() {\n",
    "    jupyter nbconvert --to html --template basic --stdout --TemplateExporter.exclude_input_prompt=True --HTMLExporter.anchor_link_text=' ' `pwd`/_ipynbs/${file_name}.ipynb >> `pwd`/_posts/${file_name}.html\n",
    "    echo \"Success\"\n",
    "}\n",
    "converter\n",
    "```"
   ]
  },
  {
   "cell_type": "markdown",
   "metadata": {},
   "source": [
    "## 4) Github Push\n",
    "- 위 스크립트로 \\_posts에 파일이 변환!\n",
    "- 그 파일을 push하면 끝!\n",
    "- 단, 이 방법은 직접 쉘 스크립트를 실행해줘야 하는 단점이 있음.. 더 자동화할 예정인데 아이디어 있는 분은 댓글을 남겨주세요 :)"
   ]
  },
  {
   "cell_type": "markdown",
   "metadata": {},
   "source": [
    "---"
   ]
  },
  {
   "cell_type": "markdown",
   "metadata": {},
   "source": [
    "## Test (##)\n",
    "### Test (###)\n",
    "#### Test (####)\n",
    "- 여기부턴 어떻게 ipynb 파일이 변하는지 테스트하기 위해 작성했습니다\n",
    "    - 목차1\n",
    "    - 목차2\n",
    "        - 세부 목차1"
   ]
  },
  {
   "cell_type": "markdown",
   "metadata": {},
   "source": [
    "## Markdown Table\n",
    "| Process | Max needs | Current needs |\n",
    "|:-------:|:---------:|:-------------:|\n",
    "|    P0   |    10     |       5       |\n",
    "|    P1   |     4     |       2       |\n",
    "|    P2   |     9     |       2       |"
   ]
  },
  {
   "cell_type": "markdown",
   "metadata": {},
   "source": [
    "## Image\n",
    "- img src=\"\" 사용\n",
    "<img src=\"https://www.google.co.kr/logos/doodles/2018/national-liberation-day-of-korea-2018-5697243024719872-law.gif?raw=1\">"
   ]
  },
  {
   "cell_type": "markdown",
   "metadata": {},
   "source": [
    "## Code 부분\n",
    "- 디테일한 format은 추후 수정 예정!"
   ]
  },
  {
   "cell_type": "code",
   "execution_count": null,
   "metadata": {},
   "outputs": [],
   "source": [
    "import numpy as np\n",
    "import matplotlib.pyplot as plt\n",
    "import matplotlib.animation as animation\n",
    "\n",
    "%matplotlib inline\n",
    "%config InlineBackend.figure_format = 'retina'"
   ]
  },
  {
   "cell_type": "code",
   "execution_count": 1,
   "metadata": {},
   "outputs": [],
   "source": [
    "# 걍 주석"
   ]
  },
  {
   "cell_type": "code",
   "execution_count": 13,
   "metadata": {},
   "outputs": [
    {
     "data": {
      "image/png": "[encoded data removed]",
      "text/plain": [
       "<Figure size 432x288 with 1 Axes>"
      ]
     },
     "metadata": {
      "image/png": {
       "height": 250,
       "width": 387
      }
     },
     "output_type": "display_data"
    }
   ],
   "source": [
    "plt.plot([1,2,3,4])\n",
    "plt.ylabel('some numbers')\n",
    "plt.show()"
   ]
  },
  {
   "cell_type": "code",
   "execution_count": 14,
   "metadata": {},
   "outputs": [
    {
     "name": "stdout",
     "output_type": "stream",
     "text": [
      "convert html test\n"
     ]
    }
   ],
   "source": [
    "print(\"convert html test\")"
   ]
  },
  {
   "cell_type": "code",
   "execution_count": 22,
   "metadata": {},
   "outputs": [],
   "source": [
    "def test_function(n):\n",
    "    print(\"len : {}, \".format(len(n)), \"word is \" + n)"
   ]
  },
  {
   "cell_type": "code",
   "execution_count": 23,
   "metadata": {},
   "outputs": [
    {
     "name": "stdout",
     "output_type": "stream",
     "text": [
      "len : 2,  word is oh\n"
     ]
    }
   ],
   "source": [
    "test_function(\"oh\")"
   ]
  }
 ],
 "metadata": {
  "kernelspec": {
   "display_name": "Python 3",
   "language": "python",
   "name": "python3"
  },
  "language_info": {
   "codemirror_mode": {
    "name": "ipython",
    "version": 3
   },
   "file_extension": ".py",
   "mimetype": "text/x-python",
   "name": "python",
   "nbconvert_exporter": "python",
   "pygments_lexer": "ipython3",
   "version": "3.6.5"
  },
  "varInspector": {
   "cols": {
    "lenName": 16,
    "lenType": 16,
    "lenVar": 40
   },
   "kernels_config": {
    "python": {
     "delete_cmd_postfix": "",
     "delete_cmd_prefix": "del ",
     "library": "var_list.py",
     "varRefreshCmd": "print(var_dic_list())"
    },
    "r": {
     "delete_cmd_postfix": ") ",
     "delete_cmd_prefix": "rm(",
     "library": "var_list.r",
     "varRefreshCmd": "cat(var_dic_list()) "
    }
   },
   "types_to_exclude": [
    "module",
    "function",
    "builtin_function_or_method",
    "instance",
    "_Feature"
   ],
   "window_display": false
  }
 },
 "nbformat": 4,
 "nbformat_minor": 2
}
